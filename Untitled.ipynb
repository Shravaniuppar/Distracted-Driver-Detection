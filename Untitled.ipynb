{
 "cells": [
  {
   "cell_type": "code",
   "execution_count": 3,
   "id": "4ff2b2de-f37c-4ea0-bbb0-681e061b5832",
   "metadata": {},
   "outputs": [
    {
     "name": "stdout",
     "output_type": "stream",
     "text": [
      "Collecting tensorflow\n",
      "  Downloading tensorflow-2.18.0-cp312-cp312-win_amd64.whl.metadata (3.3 kB)\n",
      "Collecting tensorflow-intel==2.18.0 (from tensorflow)\n",
      "  Downloading tensorflow_intel-2.18.0-cp312-cp312-win_amd64.whl.metadata (4.9 kB)\n",
      "Collecting absl-py>=1.0.0 (from tensorflow-intel==2.18.0->tensorflow)\n",
      "  Downloading absl_py-2.1.0-py3-none-any.whl.metadata (2.3 kB)\n",
      "Collecting astunparse>=1.6.0 (from tensorflow-intel==2.18.0->tensorflow)\n",
      "  Downloading astunparse-1.6.3-py2.py3-none-any.whl.metadata (4.4 kB)\n",
      "Collecting flatbuffers>=24.3.25 (from tensorflow-intel==2.18.0->tensorflow)\n",
      "  Downloading flatbuffers-24.3.25-py2.py3-none-any.whl.metadata (850 bytes)\n",
      "Collecting gast!=0.5.0,!=0.5.1,!=0.5.2,>=0.2.1 (from tensorflow-intel==2.18.0->tensorflow)\n",
      "  Downloading gast-0.6.0-py3-none-any.whl.metadata (1.3 kB)\n",
      "Collecting google-pasta>=0.1.1 (from tensorflow-intel==2.18.0->tensorflow)\n",
      "  Downloading google_pasta-0.2.0-py3-none-any.whl.metadata (814 bytes)\n",
      "Collecting libclang>=13.0.0 (from tensorflow-intel==2.18.0->tensorflow)\n",
      "  Downloading libclang-18.1.1-py2.py3-none-win_amd64.whl.metadata (5.3 kB)\n",
      "Collecting opt-einsum>=2.3.2 (from tensorflow-intel==2.18.0->tensorflow)\n",
      "  Downloading opt_einsum-3.4.0-py3-none-any.whl.metadata (6.3 kB)\n",
      "Requirement already satisfied: packaging in c:\\users\\vishwas\\anaconda3\\lib\\site-packages (from tensorflow-intel==2.18.0->tensorflow) (24.1)\n",
      "Requirement already satisfied: protobuf!=4.21.0,!=4.21.1,!=4.21.2,!=4.21.3,!=4.21.4,!=4.21.5,<6.0.0dev,>=3.20.3 in c:\\users\\vishwas\\anaconda3\\lib\\site-packages (from tensorflow-intel==2.18.0->tensorflow) (4.25.3)\n",
      "Requirement already satisfied: requests<3,>=2.21.0 in c:\\users\\vishwas\\anaconda3\\lib\\site-packages (from tensorflow-intel==2.18.0->tensorflow) (2.32.3)\n",
      "Requirement already satisfied: setuptools in c:\\users\\vishwas\\anaconda3\\lib\\site-packages (from tensorflow-intel==2.18.0->tensorflow) (75.1.0)\n",
      "Requirement already satisfied: six>=1.12.0 in c:\\users\\vishwas\\anaconda3\\lib\\site-packages (from tensorflow-intel==2.18.0->tensorflow) (1.16.0)\n",
      "Collecting termcolor>=1.1.0 (from tensorflow-intel==2.18.0->tensorflow)\n",
      "  Downloading termcolor-2.5.0-py3-none-any.whl.metadata (6.1 kB)\n",
      "Requirement already satisfied: typing-extensions>=3.6.6 in c:\\users\\vishwas\\anaconda3\\lib\\site-packages (from tensorflow-intel==2.18.0->tensorflow) (4.11.0)\n",
      "Requirement already satisfied: wrapt>=1.11.0 in c:\\users\\vishwas\\anaconda3\\lib\\site-packages (from tensorflow-intel==2.18.0->tensorflow) (1.14.1)\n",
      "Collecting grpcio<2.0,>=1.24.3 (from tensorflow-intel==2.18.0->tensorflow)\n",
      "  Downloading grpcio-1.67.1-cp312-cp312-win_amd64.whl.metadata (4.0 kB)\n",
      "Collecting tensorboard<2.19,>=2.18 (from tensorflow-intel==2.18.0->tensorflow)\n",
      "  Downloading tensorboard-2.18.0-py3-none-any.whl.metadata (1.6 kB)\n",
      "Collecting keras>=3.5.0 (from tensorflow-intel==2.18.0->tensorflow)\n",
      "  Downloading keras-3.6.0-py3-none-any.whl.metadata (5.8 kB)\n",
      "Requirement already satisfied: numpy<2.1.0,>=1.26.0 in c:\\users\\vishwas\\anaconda3\\lib\\site-packages (from tensorflow-intel==2.18.0->tensorflow) (1.26.4)\n",
      "Requirement already satisfied: h5py>=3.11.0 in c:\\users\\vishwas\\anaconda3\\lib\\site-packages (from tensorflow-intel==2.18.0->tensorflow) (3.11.0)\n",
      "Collecting ml-dtypes<0.5.0,>=0.4.0 (from tensorflow-intel==2.18.0->tensorflow)\n",
      "  Downloading ml_dtypes-0.4.1-cp312-cp312-win_amd64.whl.metadata (20 kB)\n",
      "Requirement already satisfied: wheel<1.0,>=0.23.0 in c:\\users\\vishwas\\anaconda3\\lib\\site-packages (from astunparse>=1.6.0->tensorflow-intel==2.18.0->tensorflow) (0.44.0)\n",
      "Requirement already satisfied: rich in c:\\users\\vishwas\\anaconda3\\lib\\site-packages (from keras>=3.5.0->tensorflow-intel==2.18.0->tensorflow) (13.7.1)\n",
      "Collecting namex (from keras>=3.5.0->tensorflow-intel==2.18.0->tensorflow)\n",
      "  Downloading namex-0.0.8-py3-none-any.whl.metadata (246 bytes)\n",
      "Collecting optree (from keras>=3.5.0->tensorflow-intel==2.18.0->tensorflow)\n",
      "  Downloading optree-0.13.0-cp312-cp312-win_amd64.whl.metadata (48 kB)\n",
      "Requirement already satisfied: charset-normalizer<4,>=2 in c:\\users\\vishwas\\anaconda3\\lib\\site-packages (from requests<3,>=2.21.0->tensorflow-intel==2.18.0->tensorflow) (3.3.2)\n",
      "Requirement already satisfied: idna<4,>=2.5 in c:\\users\\vishwas\\anaconda3\\lib\\site-packages (from requests<3,>=2.21.0->tensorflow-intel==2.18.0->tensorflow) (3.7)\n",
      "Requirement already satisfied: urllib3<3,>=1.21.1 in c:\\users\\vishwas\\anaconda3\\lib\\site-packages (from requests<3,>=2.21.0->tensorflow-intel==2.18.0->tensorflow) (2.2.3)\n",
      "Requirement already satisfied: certifi>=2017.4.17 in c:\\users\\vishwas\\anaconda3\\lib\\site-packages (from requests<3,>=2.21.0->tensorflow-intel==2.18.0->tensorflow) (2024.8.30)\n",
      "Requirement already satisfied: markdown>=2.6.8 in c:\\users\\vishwas\\anaconda3\\lib\\site-packages (from tensorboard<2.19,>=2.18->tensorflow-intel==2.18.0->tensorflow) (3.4.1)\n",
      "Collecting tensorboard-data-server<0.8.0,>=0.7.0 (from tensorboard<2.19,>=2.18->tensorflow-intel==2.18.0->tensorflow)\n",
      "  Downloading tensorboard_data_server-0.7.2-py3-none-any.whl.metadata (1.1 kB)\n",
      "Requirement already satisfied: werkzeug>=1.0.1 in c:\\users\\vishwas\\anaconda3\\lib\\site-packages (from tensorboard<2.19,>=2.18->tensorflow-intel==2.18.0->tensorflow) (3.0.3)\n",
      "Requirement already satisfied: MarkupSafe>=2.1.1 in c:\\users\\vishwas\\anaconda3\\lib\\site-packages (from werkzeug>=1.0.1->tensorboard<2.19,>=2.18->tensorflow-intel==2.18.0->tensorflow) (2.1.3)\n",
      "Requirement already satisfied: markdown-it-py>=2.2.0 in c:\\users\\vishwas\\anaconda3\\lib\\site-packages (from rich->keras>=3.5.0->tensorflow-intel==2.18.0->tensorflow) (2.2.0)\n",
      "Requirement already satisfied: pygments<3.0.0,>=2.13.0 in c:\\users\\vishwas\\anaconda3\\lib\\site-packages (from rich->keras>=3.5.0->tensorflow-intel==2.18.0->tensorflow) (2.15.1)\n",
      "Requirement already satisfied: mdurl~=0.1 in c:\\users\\vishwas\\anaconda3\\lib\\site-packages (from markdown-it-py>=2.2.0->rich->keras>=3.5.0->tensorflow-intel==2.18.0->tensorflow) (0.1.0)\n",
      "Downloading tensorflow-2.18.0-cp312-cp312-win_amd64.whl (7.5 kB)\n",
      "Downloading tensorflow_intel-2.18.0-cp312-cp312-win_amd64.whl (390.3 MB)\n",
      "   ---------------------------------------- 0.0/390.3 MB ? eta -:--:--\n",
      "   ---------------------------------------- 0.8/390.3 MB 5.6 MB/s eta 0:01:10\n",
      "   ---------------------------------------- 2.9/390.3 MB 8.0 MB/s eta 0:00:49\n",
      "    --------------------------------------- 5.2/390.3 MB 9.4 MB/s eta 0:00:42\n",
      "    --------------------------------------- 7.3/390.3 MB 9.8 MB/s eta 0:00:39\n",
      "    --------------------------------------- 9.4/390.3 MB 9.8 MB/s eta 0:00:39\n",
      "   - -------------------------------------- 11.8/390.3 MB 10.0 MB/s eta 0:00:38\n",
      "   - -------------------------------------- 13.9/390.3 MB 10.0 MB/s eta 0:00:38\n",
      "   - -------------------------------------- 16.0/390.3 MB 10.0 MB/s eta 0:00:38\n",
      "   - -------------------------------------- 17.6/390.3 MB 9.7 MB/s eta 0:00:39\n",
      "   - -------------------------------------- 19.4/390.3 MB 9.6 MB/s eta 0:00:39\n",
      "   -- ------------------------------------- 21.2/390.3 MB 9.5 MB/s eta 0:00:39\n",
      "   -- ------------------------------------- 23.1/390.3 MB 9.5 MB/s eta 0:00:39\n",
      "   -- ------------------------------------- 24.6/390.3 MB 9.3 MB/s eta 0:00:40\n",
      "   -- ------------------------------------- 26.5/390.3 MB 9.3 MB/s eta 0:00:40\n",
      "   -- ------------------------------------- 28.3/390.3 MB 9.3 MB/s eta 0:00:39\n",
      "   --- ------------------------------------ 30.1/390.3 MB 9.3 MB/s eta 0:00:39\n",
      "   --- ------------------------------------ 32.2/390.3 MB 9.3 MB/s eta 0:00:39\n",
      "   --- ------------------------------------ 34.3/390.3 MB 9.4 MB/s eta 0:00:39\n",
      "   --- ------------------------------------ 36.4/390.3 MB 9.4 MB/s eta 0:00:38\n",
      "   --- ------------------------------------ 38.3/390.3 MB 9.4 MB/s eta 0:00:38\n",
      "   ---- ----------------------------------- 39.8/390.3 MB 9.3 MB/s eta 0:00:38\n",
      "   ---- ----------------------------------- 41.7/390.3 MB 9.2 MB/s eta 0:00:38\n",
      "   ---- ----------------------------------- 42.7/390.3 MB 9.1 MB/s eta 0:00:39\n",
      "   ---- ----------------------------------- 44.8/390.3 MB 9.1 MB/s eta 0:00:38\n",
      "   ---- ----------------------------------- 46.7/390.3 MB 9.1 MB/s eta 0:00:38\n",
      "   ---- ----------------------------------- 48.5/390.3 MB 9.1 MB/s eta 0:00:38\n",
      "   ----- ---------------------------------- 50.3/390.3 MB 9.1 MB/s eta 0:00:38\n",
      "   ----- ---------------------------------- 52.2/390.3 MB 9.1 MB/s eta 0:00:38\n",
      "   ----- ---------------------------------- 53.7/390.3 MB 9.0 MB/s eta 0:00:38\n",
      "   ----- ---------------------------------- 55.1/390.3 MB 9.0 MB/s eta 0:00:38\n",
      "   ----- ---------------------------------- 56.6/390.3 MB 8.9 MB/s eta 0:00:38\n",
      "   ----- ---------------------------------- 57.9/390.3 MB 8.8 MB/s eta 0:00:38\n",
      "   ------ --------------------------------- 59.5/390.3 MB 8.8 MB/s eta 0:00:38\n",
      "   ------ --------------------------------- 61.6/390.3 MB 8.8 MB/s eta 0:00:38\n",
      "   ------ --------------------------------- 63.2/390.3 MB 8.8 MB/s eta 0:00:38\n",
      "   ------ --------------------------------- 65.3/390.3 MB 8.8 MB/s eta 0:00:37\n",
      "   ------ --------------------------------- 67.4/390.3 MB 8.9 MB/s eta 0:00:37\n",
      "   ------- -------------------------------- 69.5/390.3 MB 8.9 MB/s eta 0:00:37\n",
      "   ------- -------------------------------- 71.3/390.3 MB 8.9 MB/s eta 0:00:36\n",
      "   ------- -------------------------------- 73.4/390.3 MB 8.9 MB/s eta 0:00:36\n",
      "   ------- -------------------------------- 75.0/390.3 MB 8.9 MB/s eta 0:00:36\n",
      "   ------- -------------------------------- 76.0/390.3 MB 8.8 MB/s eta 0:00:36\n",
      "   ------- -------------------------------- 77.9/390.3 MB 8.8 MB/s eta 0:00:36\n",
      "   -------- ------------------------------- 79.4/390.3 MB 8.8 MB/s eta 0:00:36\n",
      "   -------- ------------------------------- 81.5/390.3 MB 8.8 MB/s eta 0:00:36\n",
      "   -------- ------------------------------- 83.4/390.3 MB 8.8 MB/s eta 0:00:35\n",
      "   -------- ------------------------------- 84.7/390.3 MB 8.8 MB/s eta 0:00:35\n",
      "   -------- ------------------------------- 86.0/390.3 MB 8.7 MB/s eta 0:00:35\n",
      "   -------- ------------------------------- 87.6/390.3 MB 8.7 MB/s eta 0:00:35\n",
      "   --------- ------------------------------ 89.1/390.3 MB 8.6 MB/s eta 0:00:35\n",
      "   --------- ------------------------------ 90.2/390.3 MB 8.6 MB/s eta 0:00:35\n",
      "   --------- ------------------------------ 91.8/390.3 MB 8.5 MB/s eta 0:00:35\n",
      "   --------- ------------------------------ 93.3/390.3 MB 8.5 MB/s eta 0:00:35\n",
      "   --------- ------------------------------ 95.2/390.3 MB 8.6 MB/s eta 0:00:35\n",
      "   --------- ------------------------------ 97.0/390.3 MB 8.5 MB/s eta 0:00:35\n",
      "   ---------- ----------------------------- 98.3/390.3 MB 8.5 MB/s eta 0:00:35\n",
      "   ---------- ----------------------------- 100.4/390.3 MB 8.5 MB/s eta 0:00:34\n",
      "   ---------- ----------------------------- 102.0/390.3 MB 8.5 MB/s eta 0:00:34\n",
      "   ---------- ----------------------------- 103.3/390.3 MB 8.5 MB/s eta 0:00:34\n",
      "   ---------- ----------------------------- 105.1/390.3 MB 8.5 MB/s eta 0:00:34\n",
      "   ---------- ----------------------------- 106.7/390.3 MB 8.5 MB/s eta 0:00:34\n",
      "   ----------- ---------------------------- 108.0/390.3 MB 8.5 MB/s eta 0:00:34\n",
      "   ----------- ---------------------------- 109.6/390.3 MB 8.4 MB/s eta 0:00:34\n",
      "   ----------- ---------------------------- 110.9/390.3 MB 8.4 MB/s eta 0:00:34\n",
      "   ----------- ---------------------------- 112.2/390.3 MB 8.4 MB/s eta 0:00:34\n",
      "   ----------- ---------------------------- 114.0/390.3 MB 8.4 MB/s eta 0:00:33\n",
      "   ----------- ---------------------------- 115.3/390.3 MB 8.4 MB/s eta 0:00:33\n",
      "   ------------ --------------------------- 117.2/390.3 MB 8.4 MB/s eta 0:00:33\n",
      "   ------------ --------------------------- 118.8/390.3 MB 8.3 MB/s eta 0:00:33\n",
      "   ------------ --------------------------- 120.3/390.3 MB 8.3 MB/s eta 0:00:33\n",
      "   ------------ --------------------------- 122.2/390.3 MB 8.3 MB/s eta 0:00:33\n",
      "   ------------ --------------------------- 123.7/390.3 MB 8.3 MB/s eta 0:00:33\n",
      "   ------------ --------------------------- 125.3/390.3 MB 8.3 MB/s eta 0:00:32\n",
      "   ------------- -------------------------- 126.9/390.3 MB 8.3 MB/s eta 0:00:32\n",
      "   ------------- -------------------------- 129.0/390.3 MB 8.3 MB/s eta 0:00:32\n",
      "   ------------- -------------------------- 130.5/390.3 MB 8.3 MB/s eta 0:00:32\n",
      "   ------------- -------------------------- 132.6/390.3 MB 8.3 MB/s eta 0:00:31\n",
      "   ------------- -------------------------- 134.5/390.3 MB 8.3 MB/s eta 0:00:31\n",
      "   ------------- -------------------------- 136.1/390.3 MB 8.3 MB/s eta 0:00:31\n",
      "   -------------- ------------------------- 137.6/390.3 MB 8.3 MB/s eta 0:00:31\n",
      "   -------------- ------------------------- 139.2/390.3 MB 8.3 MB/s eta 0:00:31\n",
      "   -------------- ------------------------- 140.5/390.3 MB 8.3 MB/s eta 0:00:31\n",
      "   -------------- ------------------------- 141.8/390.3 MB 8.3 MB/s eta 0:00:30\n",
      "   -------------- ------------------------- 142.6/390.3 MB 8.2 MB/s eta 0:00:31\n",
      "   -------------- ------------------------- 143.4/390.3 MB 8.2 MB/s eta 0:00:31\n",
      "   -------------- ------------------------- 145.2/390.3 MB 8.2 MB/s eta 0:00:31\n",
      "   --------------- ------------------------ 146.8/390.3 MB 8.2 MB/s eta 0:00:30\n",
      "   --------------- ------------------------ 148.1/390.3 MB 8.2 MB/s eta 0:00:30\n",
      "   --------------- ------------------------ 149.7/390.3 MB 8.2 MB/s eta 0:00:30\n",
      "   --------------- ------------------------ 151.8/390.3 MB 8.2 MB/s eta 0:00:30\n",
      "   --------------- ------------------------ 153.6/390.3 MB 8.2 MB/s eta 0:00:29\n",
      "   --------------- ------------------------ 155.5/390.3 MB 8.2 MB/s eta 0:00:29\n",
      "   ---------------- ----------------------- 157.3/390.3 MB 8.2 MB/s eta 0:00:29\n",
      "   ---------------- ----------------------- 159.4/390.3 MB 8.2 MB/s eta 0:00:29\n",
      "   ---------------- ----------------------- 161.2/390.3 MB 8.2 MB/s eta 0:00:28\n",
      "   ---------------- ----------------------- 163.3/390.3 MB 8.2 MB/s eta 0:00:28\n",
      "   ---------------- ----------------------- 165.7/390.3 MB 8.3 MB/s eta 0:00:28\n",
      "   ----------------- ---------------------- 167.8/390.3 MB 8.3 MB/s eta 0:00:27\n",
      "   ----------------- ---------------------- 169.6/390.3 MB 8.3 MB/s eta 0:00:27\n",
      "   ----------------- ---------------------- 170.9/390.3 MB 8.3 MB/s eta 0:00:27\n",
      "   ----------------- ---------------------- 173.3/390.3 MB 8.3 MB/s eta 0:00:27\n",
      "   ------------------ --------------------- 175.6/390.3 MB 8.3 MB/s eta 0:00:26\n",
      "   ------------------ --------------------- 178.0/390.3 MB 8.4 MB/s eta 0:00:26\n",
      "   ------------------ --------------------- 180.1/390.3 MB 8.4 MB/s eta 0:00:26\n",
      "   ------------------ --------------------- 181.7/390.3 MB 8.4 MB/s eta 0:00:25\n",
      "   ------------------ --------------------- 184.0/390.3 MB 8.4 MB/s eta 0:00:25\n",
      "   ------------------- -------------------- 185.9/390.3 MB 8.4 MB/s eta 0:00:25\n",
      "   ------------------- -------------------- 188.2/390.3 MB 8.4 MB/s eta 0:00:24\n",
      "   ------------------- -------------------- 189.8/390.3 MB 8.4 MB/s eta 0:00:24\n",
      "   ------------------- -------------------- 191.4/390.3 MB 8.4 MB/s eta 0:00:24\n",
      "   ------------------- -------------------- 193.5/390.3 MB 8.4 MB/s eta 0:00:24\n",
      "   -------------------- ------------------- 195.6/390.3 MB 8.4 MB/s eta 0:00:24\n",
      "   -------------------- ------------------- 197.9/390.3 MB 8.5 MB/s eta 0:00:23\n",
      "   -------------------- ------------------- 200.0/390.3 MB 8.5 MB/s eta 0:00:23\n",
      "   -------------------- ------------------- 201.9/390.3 MB 8.5 MB/s eta 0:00:23\n",
      "   -------------------- ------------------- 203.9/390.3 MB 8.5 MB/s eta 0:00:22\n",
      "   --------------------- ------------------ 206.3/390.3 MB 8.5 MB/s eta 0:00:22\n",
      "   --------------------- ------------------ 207.9/390.3 MB 8.5 MB/s eta 0:00:22\n",
      "   --------------------- ------------------ 209.5/390.3 MB 8.5 MB/s eta 0:00:22\n",
      "   --------------------- ------------------ 211.0/390.3 MB 8.5 MB/s eta 0:00:22\n",
      "   --------------------- ------------------ 213.1/390.3 MB 8.5 MB/s eta 0:00:21\n",
      "   ---------------------- ----------------- 215.5/390.3 MB 8.5 MB/s eta 0:00:21\n",
      "   ---------------------- ----------------- 217.3/390.3 MB 8.5 MB/s eta 0:00:21\n",
      "   ---------------------- ----------------- 219.4/390.3 MB 8.6 MB/s eta 0:00:20\n",
      "   ---------------------- ----------------- 221.2/390.3 MB 8.6 MB/s eta 0:00:20\n",
      "   ---------------------- ----------------- 222.8/390.3 MB 8.6 MB/s eta 0:00:20\n",
      "   ----------------------- ---------------- 225.2/390.3 MB 8.6 MB/s eta 0:00:20\n",
      "   ----------------------- ---------------- 227.0/390.3 MB 8.6 MB/s eta 0:00:20\n",
      "   ----------------------- ---------------- 228.9/390.3 MB 8.6 MB/s eta 0:00:19\n",
      "   ----------------------- ---------------- 230.9/390.3 MB 8.6 MB/s eta 0:00:19\n",
      "   ----------------------- ---------------- 233.0/390.3 MB 8.6 MB/s eta 0:00:19\n",
      "   ------------------------ --------------- 235.4/390.3 MB 8.6 MB/s eta 0:00:18\n",
      "   ------------------------ --------------- 237.8/390.3 MB 8.6 MB/s eta 0:00:18\n",
      "   ------------------------ --------------- 239.9/390.3 MB 8.7 MB/s eta 0:00:18\n",
      "   ------------------------ --------------- 241.4/390.3 MB 8.7 MB/s eta 0:00:18\n",
      "   ------------------------ --------------- 243.5/390.3 MB 8.7 MB/s eta 0:00:17\n",
      "   ------------------------- -------------- 245.6/390.3 MB 8.7 MB/s eta 0:00:17\n",
      "   ------------------------- -------------- 247.5/390.3 MB 8.7 MB/s eta 0:00:17\n",
      "   ------------------------- -------------- 249.3/390.3 MB 8.7 MB/s eta 0:00:17\n",
      "   ------------------------- -------------- 251.4/390.3 MB 8.7 MB/s eta 0:00:17\n",
      "   ------------------------- -------------- 253.2/390.3 MB 8.7 MB/s eta 0:00:16\n",
      "   -------------------------- ------------- 255.1/390.3 MB 8.7 MB/s eta 0:00:16\n",
      "   -------------------------- ------------- 257.2/390.3 MB 8.7 MB/s eta 0:00:16\n",
      "   -------------------------- ------------- 258.7/390.3 MB 8.7 MB/s eta 0:00:16\n",
      "   -------------------------- ------------- 260.6/390.3 MB 8.7 MB/s eta 0:00:15\n",
      "   -------------------------- ------------- 262.7/390.3 MB 8.7 MB/s eta 0:00:15\n",
      "   --------------------------- ------------ 264.8/390.3 MB 8.7 MB/s eta 0:00:15\n",
      "   --------------------------- ------------ 266.6/390.3 MB 8.7 MB/s eta 0:00:15\n",
      "   --------------------------- ------------ 268.4/390.3 MB 8.7 MB/s eta 0:00:15\n",
      "   --------------------------- ------------ 270.8/390.3 MB 8.7 MB/s eta 0:00:14\n",
      "   --------------------------- ------------ 272.9/390.3 MB 8.7 MB/s eta 0:00:14\n",
      "   ---------------------------- ----------- 275.0/390.3 MB 8.7 MB/s eta 0:00:14\n",
      "   ---------------------------- ----------- 276.8/390.3 MB 8.7 MB/s eta 0:00:14\n",
      "   ---------------------------- ----------- 278.9/390.3 MB 8.7 MB/s eta 0:00:13\n",
      "   ---------------------------- ----------- 280.8/390.3 MB 8.7 MB/s eta 0:00:13\n",
      "   ---------------------------- ----------- 282.9/390.3 MB 8.7 MB/s eta 0:00:13\n",
      "   ----------------------------- ---------- 285.0/390.3 MB 8.7 MB/s eta 0:00:13\n",
      "   ----------------------------- ---------- 286.8/390.3 MB 8.7 MB/s eta 0:00:12\n",
      "   ----------------------------- ---------- 288.6/390.3 MB 8.7 MB/s eta 0:00:12\n",
      "   ----------------------------- ---------- 290.7/390.3 MB 8.7 MB/s eta 0:00:12\n",
      "   ------------------------------ --------- 292.8/390.3 MB 8.7 MB/s eta 0:00:12\n",
      "   ------------------------------ --------- 294.9/390.3 MB 8.7 MB/s eta 0:00:11\n",
      "   ------------------------------ --------- 297.0/390.3 MB 8.7 MB/s eta 0:00:11\n",
      "   ------------------------------ --------- 299.1/390.3 MB 8.7 MB/s eta 0:00:11\n",
      "   ------------------------------ --------- 300.9/390.3 MB 8.7 MB/s eta 0:00:11\n",
      "   ------------------------------- -------- 302.8/390.3 MB 8.7 MB/s eta 0:00:11\n",
      "   ------------------------------- -------- 304.1/390.3 MB 8.8 MB/s eta 0:00:10\n",
      "   ------------------------------- -------- 305.4/390.3 MB 8.7 MB/s eta 0:00:10\n",
      "   ------------------------------- -------- 307.5/390.3 MB 8.7 MB/s eta 0:00:10\n",
      "   ------------------------------- -------- 309.1/390.3 MB 8.7 MB/s eta 0:00:10\n",
      "   ------------------------------- -------- 311.2/390.3 MB 8.7 MB/s eta 0:00:10\n",
      "   -------------------------------- ------- 313.0/390.3 MB 8.7 MB/s eta 0:00:09\n",
      "   -------------------------------- ------- 315.1/390.3 MB 8.8 MB/s eta 0:00:09\n",
      "   -------------------------------- ------- 317.2/390.3 MB 8.8 MB/s eta 0:00:09\n",
      "   -------------------------------- ------- 319.0/390.3 MB 8.8 MB/s eta 0:00:09\n",
      "   -------------------------------- ------- 320.9/390.3 MB 8.8 MB/s eta 0:00:08\n",
      "   --------------------------------- ------ 322.7/390.3 MB 8.8 MB/s eta 0:00:08\n",
      "   --------------------------------- ------ 324.8/390.3 MB 8.8 MB/s eta 0:00:08\n",
      "   --------------------------------- ------ 326.4/390.3 MB 8.8 MB/s eta 0:00:08\n",
      "   --------------------------------- ------ 328.2/390.3 MB 8.8 MB/s eta 0:00:08\n",
      "   --------------------------------- ------ 330.3/390.3 MB 8.8 MB/s eta 0:00:07\n",
      "   ---------------------------------- ----- 332.1/390.3 MB 8.8 MB/s eta 0:00:07\n",
      "   ---------------------------------- ----- 333.7/390.3 MB 8.8 MB/s eta 0:00:07\n",
      "   ---------------------------------- ----- 335.3/390.3 MB 8.8 MB/s eta 0:00:07\n",
      "   ---------------------------------- ----- 336.3/390.3 MB 8.8 MB/s eta 0:00:07\n",
      "   ---------------------------------- ----- 337.1/390.3 MB 8.7 MB/s eta 0:00:07\n",
      "   ---------------------------------- ----- 337.9/390.3 MB 8.7 MB/s eta 0:00:07\n",
      "   ---------------------------------- ----- 338.4/390.3 MB 8.7 MB/s eta 0:00:06\n",
      "   ---------------------------------- ----- 340.0/390.3 MB 8.7 MB/s eta 0:00:06\n",
      "   ---------------------------------- ----- 341.3/390.3 MB 8.6 MB/s eta 0:00:06\n",
      "   ----------------------------------- ---- 343.1/390.3 MB 8.7 MB/s eta 0:00:06\n",
      "   ----------------------------------- ---- 345.0/390.3 MB 8.7 MB/s eta 0:00:06\n",
      "   ----------------------------------- ---- 346.3/390.3 MB 8.7 MB/s eta 0:00:06\n",
      "   ----------------------------------- ---- 348.4/390.3 MB 8.7 MB/s eta 0:00:05\n",
      "   ----------------------------------- ---- 350.2/390.3 MB 8.7 MB/s eta 0:00:05\n",
      "   ------------------------------------ --- 352.1/390.3 MB 8.7 MB/s eta 0:00:05\n",
      "   ------------------------------------ --- 353.6/390.3 MB 8.7 MB/s eta 0:00:05\n",
      "   ------------------------------------ --- 355.2/390.3 MB 8.7 MB/s eta 0:00:05\n",
      "   ------------------------------------ --- 356.8/390.3 MB 8.7 MB/s eta 0:00:04\n",
      "   ------------------------------------ --- 358.1/390.3 MB 8.7 MB/s eta 0:00:04\n",
      "   ------------------------------------ --- 359.9/390.3 MB 8.7 MB/s eta 0:00:04\n",
      "   ------------------------------------- -- 362.0/390.3 MB 8.7 MB/s eta 0:00:04\n",
      "   ------------------------------------- -- 364.1/390.3 MB 8.7 MB/s eta 0:00:03\n",
      "   ------------------------------------- -- 366.2/390.3 MB 8.8 MB/s eta 0:00:03\n",
      "   ------------------------------------- -- 368.1/390.3 MB 8.8 MB/s eta 0:00:03\n",
      "   ------------------------------------- -- 369.9/390.3 MB 8.8 MB/s eta 0:00:03\n",
      "   -------------------------------------- - 371.7/390.3 MB 8.8 MB/s eta 0:00:03\n",
      "   -------------------------------------- - 373.8/390.3 MB 8.8 MB/s eta 0:00:02\n",
      "   -------------------------------------- - 376.2/390.3 MB 8.8 MB/s eta 0:00:02\n",
      "   -------------------------------------- - 378.0/390.3 MB 8.9 MB/s eta 0:00:02\n",
      "   -------------------------------------- - 380.1/390.3 MB 8.9 MB/s eta 0:00:02\n",
      "   ---------------------------------------  382.2/390.3 MB 8.9 MB/s eta 0:00:01\n",
      "   ---------------------------------------  384.0/390.3 MB 8.9 MB/s eta 0:00:01\n",
      "   ---------------------------------------  385.9/390.3 MB 8.9 MB/s eta 0:00:01\n",
      "   ---------------------------------------  388.0/390.3 MB 8.9 MB/s eta 0:00:01\n",
      "   ---------------------------------------  389.8/390.3 MB 8.9 MB/s eta 0:00:01\n",
      "   ---------------------------------------  390.1/390.3 MB 8.9 MB/s eta 0:00:01\n",
      "   ---------------------------------------  390.1/390.3 MB 8.9 MB/s eta 0:00:01\n",
      "   ---------------------------------------  390.1/390.3 MB 8.9 MB/s eta 0:00:01\n",
      "   ---------------------------------------  390.1/390.3 MB 8.9 MB/s eta 0:00:01\n",
      "   ---------------------------------------  390.1/390.3 MB 8.9 MB/s eta 0:00:01\n",
      "   ---------------------------------------  390.1/390.3 MB 8.9 MB/s eta 0:00:01\n",
      "   ---------------------------------------- 390.3/390.3 MB 8.6 MB/s eta 0:00:00\n",
      "Downloading absl_py-2.1.0-py3-none-any.whl (133 kB)\n",
      "Downloading astunparse-1.6.3-py2.py3-none-any.whl (12 kB)\n",
      "Downloading flatbuffers-24.3.25-py2.py3-none-any.whl (26 kB)\n",
      "Downloading gast-0.6.0-py3-none-any.whl (21 kB)\n",
      "Downloading google_pasta-0.2.0-py3-none-any.whl (57 kB)\n",
      "Downloading grpcio-1.67.1-cp312-cp312-win_amd64.whl (4.3 MB)\n",
      "   ---------------------------------------- 0.0/4.3 MB ? eta -:--:--\n",
      "   ---------------- ----------------------- 1.8/4.3 MB 10.0 MB/s eta 0:00:01\n",
      "   -------------------------------------- - 4.2/4.3 MB 10.9 MB/s eta 0:00:01\n",
      "   ---------------------------------------- 4.3/4.3 MB 10.0 MB/s eta 0:00:00\n",
      "Downloading keras-3.6.0-py3-none-any.whl (1.2 MB)\n",
      "   ---------------------------------------- 0.0/1.2 MB ? eta -:--:--\n",
      "   ---------------------------------------- 1.2/1.2 MB 9.9 MB/s eta 0:00:00\n",
      "Downloading libclang-18.1.1-py2.py3-none-win_amd64.whl (26.4 MB)\n",
      "   ---------------------------------------- 0.0/26.4 MB ? eta -:--:--\n",
      "   --- ------------------------------------ 2.1/26.4 MB 11.7 MB/s eta 0:00:03\n",
      "   ------ --------------------------------- 4.2/26.4 MB 10.9 MB/s eta 0:00:03\n",
      "   ---------- ----------------------------- 6.8/26.4 MB 11.0 MB/s eta 0:00:02\n",
      "   ------------- -------------------------- 8.9/26.4 MB 11.1 MB/s eta 0:00:02\n",
      "   ----------------- ---------------------- 11.3/26.4 MB 11.0 MB/s eta 0:00:02\n",
      "   -------------------- ------------------- 13.4/26.4 MB 11.0 MB/s eta 0:00:02\n",
      "   ----------------------- ---------------- 15.5/26.4 MB 10.8 MB/s eta 0:00:02\n",
      "   -------------------------- ------------- 17.6/26.4 MB 10.7 MB/s eta 0:00:01\n",
      "   ----------------------------- ---------- 19.4/26.4 MB 10.6 MB/s eta 0:00:01\n",
      "   -------------------------------- ------- 21.8/26.4 MB 10.6 MB/s eta 0:00:01\n",
      "   ------------------------------------ --- 24.1/26.4 MB 10.7 MB/s eta 0:00:01\n",
      "   ---------------------------------------  26.2/26.4 MB 10.7 MB/s eta 0:00:01\n",
      "   ---------------------------------------  26.2/26.4 MB 10.7 MB/s eta 0:00:01\n",
      "   ---------------------------------------- 26.4/26.4 MB 9.5 MB/s eta 0:00:00\n",
      "Downloading ml_dtypes-0.4.1-cp312-cp312-win_amd64.whl (127 kB)\n",
      "Downloading opt_einsum-3.4.0-py3-none-any.whl (71 kB)\n",
      "Downloading tensorboard-2.18.0-py3-none-any.whl (5.5 MB)\n",
      "   ---------------------------------------- 0.0/5.5 MB ? eta -:--:--\n",
      "   ------------------- -------------------- 2.6/5.5 MB 12.5 MB/s eta 0:00:01\n",
      "   ---------------------------------- ----- 4.7/5.5 MB 11.4 MB/s eta 0:00:01\n",
      "   -------------------------------------- - 5.2/5.5 MB 11.8 MB/s eta 0:00:01\n",
      "   ---------------------------------------- 5.5/5.5 MB 7.0 MB/s eta 0:00:00\n",
      "Downloading termcolor-2.5.0-py3-none-any.whl (7.8 kB)\n",
      "Downloading tensorboard_data_server-0.7.2-py3-none-any.whl (2.4 kB)\n",
      "Downloading namex-0.0.8-py3-none-any.whl (5.8 kB)\n",
      "Downloading optree-0.13.0-cp312-cp312-win_amd64.whl (283 kB)\n",
      "Installing collected packages: namex, libclang, flatbuffers, termcolor, tensorboard-data-server, optree, opt-einsum, ml-dtypes, grpcio, google-pasta, gast, astunparse, absl-py, tensorboard, keras, tensorflow-intel, tensorflow\n",
      "Successfully installed absl-py-2.1.0 astunparse-1.6.3 flatbuffers-24.3.25 gast-0.6.0 google-pasta-0.2.0 grpcio-1.67.1 keras-3.6.0 libclang-18.1.1 ml-dtypes-0.4.1 namex-0.0.8 opt-einsum-3.4.0 optree-0.13.0 tensorboard-2.18.0 tensorboard-data-server-0.7.2 tensorflow-2.18.0 tensorflow-intel-2.18.0 termcolor-2.5.0\n",
      "Note: you may need to restart the kernel to use updated packages.\n"
     ]
    }
   ],
   "source": [
    "pip install tensorflow\n"
   ]
  },
  {
   "cell_type": "code",
   "execution_count": 18,
   "id": "76262eff-4399-41c2-8c02-f8cbfc747f75",
   "metadata": {},
   "outputs": [],
   "source": [
    "import tensorflow as tf\n",
    "from tensorflow.keras.models import Sequential\n",
    "from tensorflow.keras.layers import Conv2D, MaxPooling2D, Flatten, Dense, Dropout\n",
    "from tensorflow.keras.preprocessing.image import ImageDataGenerator\n",
    "from tensorflow.keras.optimizers import Adam\n",
    "import matplotlib.pyplot as plt"
   ]
  },
  {
   "cell_type": "code",
   "execution_count": 19,
   "id": "926a2f76-814c-4305-b42e-d02c832f957b",
   "metadata": {},
   "outputs": [],
   "source": [
    "# Paths to the training and validation data folders\n",
    "train_dir = 'C:/Users/VISHWAS/Documents/mini project/archive/train'\n",
    "val_dir = 'C:/Users/VISHWAS/Documents/mini project/archive/valid'\n",
    "\n",
    "# Model parameters\n",
    "img_height, img_width = 224, 224  # Image dimensions\n",
    "batch_size = 32\n",
    "num_classes = 4 # Number of distraction categories\n",
    "learning_rate = 0.001\n",
    "epochs = 20\n"
   ]
  },
  {
   "cell_type": "code",
   "execution_count": 22,
   "id": "555c98d5-80fa-4062-b2f4-58aa3c5e7d1a",
   "metadata": {},
   "outputs": [],
   "source": [
    "# Data augmentation for the training data\n",
    "train_datagen = ImageDataGenerator(\n",
    "    rescale=1./255,          # Normalize pixel values\n",
    "    rotation_range=15,        # Random rotation\n",
    "    width_shift_range=0.1,    # Horizontal shift\n",
    "    height_shift_range=0.1,   # Vertical shift\n",
    "    shear_range=0.1,          # Shearing\n",
    "    zoom_range=0.1,           # Zooming\n",
    "    horizontal_flip=True      # Random horizontal flip\n",
    ")\n"
   ]
  },
  {
   "cell_type": "code",
   "execution_count": 24,
   "id": "7e96659f-c608-41d1-b1c7-9612fea2655b",
   "metadata": {},
   "outputs": [],
   "source": [
    "val_datagen = ImageDataGenerator(rescale=1./255)"
   ]
  },
  {
   "cell_type": "code",
   "execution_count": 26,
   "id": "7b6983e3-3ef8-4c06-b6fe-bf9118968608",
   "metadata": {},
   "outputs": [
    {
     "name": "stdout",
     "output_type": "stream",
     "text": [
      "Found 1404 images belonging to 4 classes.\n"
     ]
    }
   ],
   "source": [
    "val_data = val_datagen.flow_from_directory(\n",
    "    val_dir,\n",
    "    target_size=(img_height, img_width),\n",
    "    batch_size=batch_size,\n",
    "    class_mode='categorical'\n",
    ")\n"
   ]
  },
  {
   "cell_type": "code",
   "execution_count": 28,
   "id": "018e5065-1bc2-48ee-abf4-104860a792f9",
   "metadata": {},
   "outputs": [
    {
     "name": "stdout",
     "output_type": "stream",
     "text": [
      "Found 1993 images belonging to 4 classes.\n"
     ]
    }
   ],
   "source": [
    "train_data = train_datagen.flow_from_directory(\n",
    "    train_dir,\n",
    "    target_size=(img_height, img_width),\n",
    "    batch_size=batch_size,\n",
    "    class_mode='categorical'\n",
    ")\n"
   ]
  },
  {
   "cell_type": "code",
   "execution_count": 29,
   "id": "9bdb6f82-1bd5-4b8b-9c35-be909e0daac7",
   "metadata": {},
   "outputs": [
    {
     "name": "stderr",
     "output_type": "stream",
     "text": [
      "C:\\Users\\VISHWAS\\anaconda3\\Lib\\site-packages\\keras\\src\\layers\\convolutional\\base_conv.py:107: UserWarning: Do not pass an `input_shape`/`input_dim` argument to a layer. When using Sequential models, prefer using an `Input(shape)` object as the first layer in the model instead.\n",
      "  super().__init__(activity_regularizer=activity_regularizer, **kwargs)\n"
     ]
    }
   ],
   "source": [
    "model = Sequential([\n",
    "    Conv2D(32, (3, 3), activation='relu', input_shape=(img_height, img_width, 3)),\n",
    "    MaxPooling2D((2, 2)),\n",
    "    Dropout(0.2),\n",
    "\n",
    "    Conv2D(64, (3, 3), activation='relu'),\n",
    "    MaxPooling2D((2, 2)),\n",
    "    Dropout(0.2),\n",
    "\n",
    "    Conv2D(128, (3, 3), activation='relu'),\n",
    "    MaxPooling2D((2, 2)),\n",
    "    Dropout(0.2),\n",
    "\n",
    "    Flatten(),\n",
    "    Dense(128, activation='relu'),\n",
    "    Dropout(0.5),\n",
    "    Dense(num_classes, activation='softmax')  # Output layer\n",
    "])\n",
    "\n",
    "\n"
   ]
  },
  {
   "cell_type": "code",
   "execution_count": 32,
   "id": "5968fe95-84cb-414d-a31e-ea899d1215be",
   "metadata": {},
   "outputs": [],
   "source": [
    "# Compile the model\n",
    "model.compile(optimizer=Adam(learning_rate=learning_rate),\n",
    "              loss='categorical_crossentropy',\n",
    "              metrics=['accuracy'])"
   ]
  },
  {
   "cell_type": "code",
   "execution_count": 34,
   "id": "4544342c-6f35-4d7d-8e6b-905c217bb8e3",
   "metadata": {},
   "outputs": [
    {
     "data": {
      "text/html": [
       "<pre style=\"white-space:pre;overflow-x:auto;line-height:normal;font-family:Menlo,'DejaVu Sans Mono',consolas,'Courier New',monospace\"><span style=\"font-weight: bold\">Model: \"sequential\"</span>\n",
       "</pre>\n"
      ],
      "text/plain": [
       "\u001b[1mModel: \"sequential\"\u001b[0m\n"
      ]
     },
     "metadata": {},
     "output_type": "display_data"
    },
    {
     "data": {
      "text/html": [
       "<pre style=\"white-space:pre;overflow-x:auto;line-height:normal;font-family:Menlo,'DejaVu Sans Mono',consolas,'Courier New',monospace\">┏━━━━━━━━━━━━━━━━━━━━━━━━━━━━━━━━━┳━━━━━━━━━━━━━━━━━━━━━━━━┳━━━━━━━━━━━━━━━┓\n",
       "┃<span style=\"font-weight: bold\"> Layer (type)                    </span>┃<span style=\"font-weight: bold\"> Output Shape           </span>┃<span style=\"font-weight: bold\">       Param # </span>┃\n",
       "┡━━━━━━━━━━━━━━━━━━━━━━━━━━━━━━━━━╇━━━━━━━━━━━━━━━━━━━━━━━━╇━━━━━━━━━━━━━━━┩\n",
       "│ conv2d (<span style=\"color: #0087ff; text-decoration-color: #0087ff\">Conv2D</span>)                 │ (<span style=\"color: #00d7ff; text-decoration-color: #00d7ff\">None</span>, <span style=\"color: #00af00; text-decoration-color: #00af00\">222</span>, <span style=\"color: #00af00; text-decoration-color: #00af00\">222</span>, <span style=\"color: #00af00; text-decoration-color: #00af00\">32</span>)   │           <span style=\"color: #00af00; text-decoration-color: #00af00\">896</span> │\n",
       "├─────────────────────────────────┼────────────────────────┼───────────────┤\n",
       "│ max_pooling2d (<span style=\"color: #0087ff; text-decoration-color: #0087ff\">MaxPooling2D</span>)    │ (<span style=\"color: #00d7ff; text-decoration-color: #00d7ff\">None</span>, <span style=\"color: #00af00; text-decoration-color: #00af00\">111</span>, <span style=\"color: #00af00; text-decoration-color: #00af00\">111</span>, <span style=\"color: #00af00; text-decoration-color: #00af00\">32</span>)   │             <span style=\"color: #00af00; text-decoration-color: #00af00\">0</span> │\n",
       "├─────────────────────────────────┼────────────────────────┼───────────────┤\n",
       "│ dropout (<span style=\"color: #0087ff; text-decoration-color: #0087ff\">Dropout</span>)               │ (<span style=\"color: #00d7ff; text-decoration-color: #00d7ff\">None</span>, <span style=\"color: #00af00; text-decoration-color: #00af00\">111</span>, <span style=\"color: #00af00; text-decoration-color: #00af00\">111</span>, <span style=\"color: #00af00; text-decoration-color: #00af00\">32</span>)   │             <span style=\"color: #00af00; text-decoration-color: #00af00\">0</span> │\n",
       "├─────────────────────────────────┼────────────────────────┼───────────────┤\n",
       "│ conv2d_1 (<span style=\"color: #0087ff; text-decoration-color: #0087ff\">Conv2D</span>)               │ (<span style=\"color: #00d7ff; text-decoration-color: #00d7ff\">None</span>, <span style=\"color: #00af00; text-decoration-color: #00af00\">109</span>, <span style=\"color: #00af00; text-decoration-color: #00af00\">109</span>, <span style=\"color: #00af00; text-decoration-color: #00af00\">64</span>)   │        <span style=\"color: #00af00; text-decoration-color: #00af00\">18,496</span> │\n",
       "├─────────────────────────────────┼────────────────────────┼───────────────┤\n",
       "│ max_pooling2d_1 (<span style=\"color: #0087ff; text-decoration-color: #0087ff\">MaxPooling2D</span>)  │ (<span style=\"color: #00d7ff; text-decoration-color: #00d7ff\">None</span>, <span style=\"color: #00af00; text-decoration-color: #00af00\">54</span>, <span style=\"color: #00af00; text-decoration-color: #00af00\">54</span>, <span style=\"color: #00af00; text-decoration-color: #00af00\">64</span>)     │             <span style=\"color: #00af00; text-decoration-color: #00af00\">0</span> │\n",
       "├─────────────────────────────────┼────────────────────────┼───────────────┤\n",
       "│ dropout_1 (<span style=\"color: #0087ff; text-decoration-color: #0087ff\">Dropout</span>)             │ (<span style=\"color: #00d7ff; text-decoration-color: #00d7ff\">None</span>, <span style=\"color: #00af00; text-decoration-color: #00af00\">54</span>, <span style=\"color: #00af00; text-decoration-color: #00af00\">54</span>, <span style=\"color: #00af00; text-decoration-color: #00af00\">64</span>)     │             <span style=\"color: #00af00; text-decoration-color: #00af00\">0</span> │\n",
       "├─────────────────────────────────┼────────────────────────┼───────────────┤\n",
       "│ conv2d_2 (<span style=\"color: #0087ff; text-decoration-color: #0087ff\">Conv2D</span>)               │ (<span style=\"color: #00d7ff; text-decoration-color: #00d7ff\">None</span>, <span style=\"color: #00af00; text-decoration-color: #00af00\">52</span>, <span style=\"color: #00af00; text-decoration-color: #00af00\">52</span>, <span style=\"color: #00af00; text-decoration-color: #00af00\">128</span>)    │        <span style=\"color: #00af00; text-decoration-color: #00af00\">73,856</span> │\n",
       "├─────────────────────────────────┼────────────────────────┼───────────────┤\n",
       "│ max_pooling2d_2 (<span style=\"color: #0087ff; text-decoration-color: #0087ff\">MaxPooling2D</span>)  │ (<span style=\"color: #00d7ff; text-decoration-color: #00d7ff\">None</span>, <span style=\"color: #00af00; text-decoration-color: #00af00\">26</span>, <span style=\"color: #00af00; text-decoration-color: #00af00\">26</span>, <span style=\"color: #00af00; text-decoration-color: #00af00\">128</span>)    │             <span style=\"color: #00af00; text-decoration-color: #00af00\">0</span> │\n",
       "├─────────────────────────────────┼────────────────────────┼───────────────┤\n",
       "│ dropout_2 (<span style=\"color: #0087ff; text-decoration-color: #0087ff\">Dropout</span>)             │ (<span style=\"color: #00d7ff; text-decoration-color: #00d7ff\">None</span>, <span style=\"color: #00af00; text-decoration-color: #00af00\">26</span>, <span style=\"color: #00af00; text-decoration-color: #00af00\">26</span>, <span style=\"color: #00af00; text-decoration-color: #00af00\">128</span>)    │             <span style=\"color: #00af00; text-decoration-color: #00af00\">0</span> │\n",
       "├─────────────────────────────────┼────────────────────────┼───────────────┤\n",
       "│ flatten (<span style=\"color: #0087ff; text-decoration-color: #0087ff\">Flatten</span>)               │ (<span style=\"color: #00d7ff; text-decoration-color: #00d7ff\">None</span>, <span style=\"color: #00af00; text-decoration-color: #00af00\">86528</span>)          │             <span style=\"color: #00af00; text-decoration-color: #00af00\">0</span> │\n",
       "├─────────────────────────────────┼────────────────────────┼───────────────┤\n",
       "│ dense (<span style=\"color: #0087ff; text-decoration-color: #0087ff\">Dense</span>)                   │ (<span style=\"color: #00d7ff; text-decoration-color: #00d7ff\">None</span>, <span style=\"color: #00af00; text-decoration-color: #00af00\">128</span>)            │    <span style=\"color: #00af00; text-decoration-color: #00af00\">11,075,712</span> │\n",
       "├─────────────────────────────────┼────────────────────────┼───────────────┤\n",
       "│ dropout_3 (<span style=\"color: #0087ff; text-decoration-color: #0087ff\">Dropout</span>)             │ (<span style=\"color: #00d7ff; text-decoration-color: #00d7ff\">None</span>, <span style=\"color: #00af00; text-decoration-color: #00af00\">128</span>)            │             <span style=\"color: #00af00; text-decoration-color: #00af00\">0</span> │\n",
       "├─────────────────────────────────┼────────────────────────┼───────────────┤\n",
       "│ dense_1 (<span style=\"color: #0087ff; text-decoration-color: #0087ff\">Dense</span>)                 │ (<span style=\"color: #00d7ff; text-decoration-color: #00d7ff\">None</span>, <span style=\"color: #00af00; text-decoration-color: #00af00\">4</span>)              │           <span style=\"color: #00af00; text-decoration-color: #00af00\">516</span> │\n",
       "└─────────────────────────────────┴────────────────────────┴───────────────┘\n",
       "</pre>\n"
      ],
      "text/plain": [
       "┏━━━━━━━━━━━━━━━━━━━━━━━━━━━━━━━━━┳━━━━━━━━━━━━━━━━━━━━━━━━┳━━━━━━━━━━━━━━━┓\n",
       "┃\u001b[1m \u001b[0m\u001b[1mLayer (type)                   \u001b[0m\u001b[1m \u001b[0m┃\u001b[1m \u001b[0m\u001b[1mOutput Shape          \u001b[0m\u001b[1m \u001b[0m┃\u001b[1m \u001b[0m\u001b[1m      Param #\u001b[0m\u001b[1m \u001b[0m┃\n",
       "┡━━━━━━━━━━━━━━━━━━━━━━━━━━━━━━━━━╇━━━━━━━━━━━━━━━━━━━━━━━━╇━━━━━━━━━━━━━━━┩\n",
       "│ conv2d (\u001b[38;5;33mConv2D\u001b[0m)                 │ (\u001b[38;5;45mNone\u001b[0m, \u001b[38;5;34m222\u001b[0m, \u001b[38;5;34m222\u001b[0m, \u001b[38;5;34m32\u001b[0m)   │           \u001b[38;5;34m896\u001b[0m │\n",
       "├─────────────────────────────────┼────────────────────────┼───────────────┤\n",
       "│ max_pooling2d (\u001b[38;5;33mMaxPooling2D\u001b[0m)    │ (\u001b[38;5;45mNone\u001b[0m, \u001b[38;5;34m111\u001b[0m, \u001b[38;5;34m111\u001b[0m, \u001b[38;5;34m32\u001b[0m)   │             \u001b[38;5;34m0\u001b[0m │\n",
       "├─────────────────────────────────┼────────────────────────┼───────────────┤\n",
       "│ dropout (\u001b[38;5;33mDropout\u001b[0m)               │ (\u001b[38;5;45mNone\u001b[0m, \u001b[38;5;34m111\u001b[0m, \u001b[38;5;34m111\u001b[0m, \u001b[38;5;34m32\u001b[0m)   │             \u001b[38;5;34m0\u001b[0m │\n",
       "├─────────────────────────────────┼────────────────────────┼───────────────┤\n",
       "│ conv2d_1 (\u001b[38;5;33mConv2D\u001b[0m)               │ (\u001b[38;5;45mNone\u001b[0m, \u001b[38;5;34m109\u001b[0m, \u001b[38;5;34m109\u001b[0m, \u001b[38;5;34m64\u001b[0m)   │        \u001b[38;5;34m18,496\u001b[0m │\n",
       "├─────────────────────────────────┼────────────────────────┼───────────────┤\n",
       "│ max_pooling2d_1 (\u001b[38;5;33mMaxPooling2D\u001b[0m)  │ (\u001b[38;5;45mNone\u001b[0m, \u001b[38;5;34m54\u001b[0m, \u001b[38;5;34m54\u001b[0m, \u001b[38;5;34m64\u001b[0m)     │             \u001b[38;5;34m0\u001b[0m │\n",
       "├─────────────────────────────────┼────────────────────────┼───────────────┤\n",
       "│ dropout_1 (\u001b[38;5;33mDropout\u001b[0m)             │ (\u001b[38;5;45mNone\u001b[0m, \u001b[38;5;34m54\u001b[0m, \u001b[38;5;34m54\u001b[0m, \u001b[38;5;34m64\u001b[0m)     │             \u001b[38;5;34m0\u001b[0m │\n",
       "├─────────────────────────────────┼────────────────────────┼───────────────┤\n",
       "│ conv2d_2 (\u001b[38;5;33mConv2D\u001b[0m)               │ (\u001b[38;5;45mNone\u001b[0m, \u001b[38;5;34m52\u001b[0m, \u001b[38;5;34m52\u001b[0m, \u001b[38;5;34m128\u001b[0m)    │        \u001b[38;5;34m73,856\u001b[0m │\n",
       "├─────────────────────────────────┼────────────────────────┼───────────────┤\n",
       "│ max_pooling2d_2 (\u001b[38;5;33mMaxPooling2D\u001b[0m)  │ (\u001b[38;5;45mNone\u001b[0m, \u001b[38;5;34m26\u001b[0m, \u001b[38;5;34m26\u001b[0m, \u001b[38;5;34m128\u001b[0m)    │             \u001b[38;5;34m0\u001b[0m │\n",
       "├─────────────────────────────────┼────────────────────────┼───────────────┤\n",
       "│ dropout_2 (\u001b[38;5;33mDropout\u001b[0m)             │ (\u001b[38;5;45mNone\u001b[0m, \u001b[38;5;34m26\u001b[0m, \u001b[38;5;34m26\u001b[0m, \u001b[38;5;34m128\u001b[0m)    │             \u001b[38;5;34m0\u001b[0m │\n",
       "├─────────────────────────────────┼────────────────────────┼───────────────┤\n",
       "│ flatten (\u001b[38;5;33mFlatten\u001b[0m)               │ (\u001b[38;5;45mNone\u001b[0m, \u001b[38;5;34m86528\u001b[0m)          │             \u001b[38;5;34m0\u001b[0m │\n",
       "├─────────────────────────────────┼────────────────────────┼───────────────┤\n",
       "│ dense (\u001b[38;5;33mDense\u001b[0m)                   │ (\u001b[38;5;45mNone\u001b[0m, \u001b[38;5;34m128\u001b[0m)            │    \u001b[38;5;34m11,075,712\u001b[0m │\n",
       "├─────────────────────────────────┼────────────────────────┼───────────────┤\n",
       "│ dropout_3 (\u001b[38;5;33mDropout\u001b[0m)             │ (\u001b[38;5;45mNone\u001b[0m, \u001b[38;5;34m128\u001b[0m)            │             \u001b[38;5;34m0\u001b[0m │\n",
       "├─────────────────────────────────┼────────────────────────┼───────────────┤\n",
       "│ dense_1 (\u001b[38;5;33mDense\u001b[0m)                 │ (\u001b[38;5;45mNone\u001b[0m, \u001b[38;5;34m4\u001b[0m)              │           \u001b[38;5;34m516\u001b[0m │\n",
       "└─────────────────────────────────┴────────────────────────┴───────────────┘\n"
      ]
     },
     "metadata": {},
     "output_type": "display_data"
    },
    {
     "data": {
      "text/html": [
       "<pre style=\"white-space:pre;overflow-x:auto;line-height:normal;font-family:Menlo,'DejaVu Sans Mono',consolas,'Courier New',monospace\"><span style=\"font-weight: bold\"> Total params: </span><span style=\"color: #00af00; text-decoration-color: #00af00\">11,169,476</span> (42.61 MB)\n",
       "</pre>\n"
      ],
      "text/plain": [
       "\u001b[1m Total params: \u001b[0m\u001b[38;5;34m11,169,476\u001b[0m (42.61 MB)\n"
      ]
     },
     "metadata": {},
     "output_type": "display_data"
    },
    {
     "data": {
      "text/html": [
       "<pre style=\"white-space:pre;overflow-x:auto;line-height:normal;font-family:Menlo,'DejaVu Sans Mono',consolas,'Courier New',monospace\"><span style=\"font-weight: bold\"> Trainable params: </span><span style=\"color: #00af00; text-decoration-color: #00af00\">11,169,476</span> (42.61 MB)\n",
       "</pre>\n"
      ],
      "text/plain": [
       "\u001b[1m Trainable params: \u001b[0m\u001b[38;5;34m11,169,476\u001b[0m (42.61 MB)\n"
      ]
     },
     "metadata": {},
     "output_type": "display_data"
    },
    {
     "data": {
      "text/html": [
       "<pre style=\"white-space:pre;overflow-x:auto;line-height:normal;font-family:Menlo,'DejaVu Sans Mono',consolas,'Courier New',monospace\"><span style=\"font-weight: bold\"> Non-trainable params: </span><span style=\"color: #00af00; text-decoration-color: #00af00\">0</span> (0.00 B)\n",
       "</pre>\n"
      ],
      "text/plain": [
       "\u001b[1m Non-trainable params: \u001b[0m\u001b[38;5;34m0\u001b[0m (0.00 B)\n"
      ]
     },
     "metadata": {},
     "output_type": "display_data"
    }
   ],
   "source": [
    "model.summary()"
   ]
  },
  {
   "cell_type": "code",
   "execution_count": 36,
   "id": "4c72d2b4-2ab4-497f-b13a-46e71067a33d",
   "metadata": {},
   "outputs": [
    {
     "name": "stderr",
     "output_type": "stream",
     "text": [
      "C:\\Users\\VISHWAS\\anaconda3\\Lib\\site-packages\\keras\\src\\trainers\\data_adapters\\py_dataset_adapter.py:121: UserWarning: Your `PyDataset` class should call `super().__init__(**kwargs)` in its constructor. `**kwargs` can include `workers`, `use_multiprocessing`, `max_queue_size`. Do not pass these arguments to `fit()`, as they will be ignored.\n",
      "  self._warn_if_super_not_called()\n"
     ]
    },
    {
     "name": "stdout",
     "output_type": "stream",
     "text": [
      "Epoch 1/20\n",
      "\u001b[1m63/63\u001b[0m \u001b[32m━━━━━━━━━━━━━━━━━━━━\u001b[0m\u001b[37m\u001b[0m \u001b[1m0s\u001b[0m 1s/step - accuracy: 0.4681 - loss: 1.6678"
     ]
    },
    {
     "name": "stderr",
     "output_type": "stream",
     "text": [
      "C:\\Users\\VISHWAS\\anaconda3\\Lib\\site-packages\\keras\\src\\trainers\\data_adapters\\py_dataset_adapter.py:121: UserWarning: Your `PyDataset` class should call `super().__init__(**kwargs)` in its constructor. `**kwargs` can include `workers`, `use_multiprocessing`, `max_queue_size`. Do not pass these arguments to `fit()`, as they will be ignored.\n",
      "  self._warn_if_super_not_called()\n"
     ]
    },
    {
     "name": "stdout",
     "output_type": "stream",
     "text": [
      "\u001b[1m63/63\u001b[0m \u001b[32m━━━━━━━━━━━━━━━━━━━━\u001b[0m\u001b[37m\u001b[0m \u001b[1m85s\u001b[0m 1s/step - accuracy: 0.4689 - loss: 1.6605 - val_accuracy: 0.4402 - val_loss: 1.5057\n",
      "Epoch 2/20\n",
      "\u001b[1m63/63\u001b[0m \u001b[32m━━━━━━━━━━━━━━━━━━━━\u001b[0m\u001b[37m\u001b[0m \u001b[1m80s\u001b[0m 1s/step - accuracy: 0.6756 - loss: 0.8185 - val_accuracy: 0.3006 - val_loss: 3.5061\n",
      "Epoch 3/20\n",
      "\u001b[1m63/63\u001b[0m \u001b[32m━━━━━━━━━━━━━━━━━━━━\u001b[0m\u001b[37m\u001b[0m \u001b[1m89s\u001b[0m 1s/step - accuracy: 0.7766 - loss: 0.6376 - val_accuracy: 0.4722 - val_loss: 2.7996\n",
      "Epoch 4/20\n",
      "\u001b[1m63/63\u001b[0m \u001b[32m━━━━━━━━━━━━━━━━━━━━\u001b[0m\u001b[37m\u001b[0m \u001b[1m72s\u001b[0m 1s/step - accuracy: 0.8339 - loss: 0.5323 - val_accuracy: 0.3533 - val_loss: 4.0850\n",
      "Epoch 5/20\n",
      "\u001b[1m63/63\u001b[0m \u001b[32m━━━━━━━━━━━━━━━━━━━━\u001b[0m\u001b[37m\u001b[0m \u001b[1m69s\u001b[0m 1s/step - accuracy: 0.8287 - loss: 0.5188 - val_accuracy: 0.4487 - val_loss: 3.7794\n",
      "Epoch 6/20\n",
      "\u001b[1m63/63\u001b[0m \u001b[32m━━━━━━━━━━━━━━━━━━━━\u001b[0m\u001b[37m\u001b[0m \u001b[1m69s\u001b[0m 1s/step - accuracy: 0.8661 - loss: 0.4409 - val_accuracy: 0.4217 - val_loss: 4.2318\n",
      "Epoch 7/20\n",
      "\u001b[1m63/63\u001b[0m \u001b[32m━━━━━━━━━━━━━━━━━━━━\u001b[0m\u001b[37m\u001b[0m \u001b[1m70s\u001b[0m 1s/step - accuracy: 0.8721 - loss: 0.4007 - val_accuracy: 0.4238 - val_loss: 5.4898\n",
      "Epoch 8/20\n",
      "\u001b[1m63/63\u001b[0m \u001b[32m━━━━━━━━━━━━━━━━━━━━\u001b[0m\u001b[37m\u001b[0m \u001b[1m70s\u001b[0m 1s/step - accuracy: 0.8854 - loss: 0.4118 - val_accuracy: 0.4487 - val_loss: 4.8146\n",
      "Epoch 9/20\n",
      "\u001b[1m63/63\u001b[0m \u001b[32m━━━━━━━━━━━━━━━━━━━━\u001b[0m\u001b[37m\u001b[0m \u001b[1m69s\u001b[0m 1s/step - accuracy: 0.8604 - loss: 0.4033 - val_accuracy: 0.4644 - val_loss: 4.1866\n",
      "Epoch 10/20\n",
      "\u001b[1m63/63\u001b[0m \u001b[32m━━━━━━━━━━━━━━━━━━━━\u001b[0m\u001b[37m\u001b[0m \u001b[1m69s\u001b[0m 1s/step - accuracy: 0.8819 - loss: 0.3611 - val_accuracy: 0.4872 - val_loss: 4.1247\n",
      "Epoch 11/20\n",
      "\u001b[1m63/63\u001b[0m \u001b[32m━━━━━━━━━━━━━━━━━━━━\u001b[0m\u001b[37m\u001b[0m \u001b[1m69s\u001b[0m 1s/step - accuracy: 0.8965 - loss: 0.3318 - val_accuracy: 0.4516 - val_loss: 5.1518\n",
      "Epoch 12/20\n",
      "\u001b[1m63/63\u001b[0m \u001b[32m━━━━━━━━━━━━━━━━━━━━\u001b[0m\u001b[37m\u001b[0m \u001b[1m69s\u001b[0m 1s/step - accuracy: 0.8882 - loss: 0.3481 - val_accuracy: 0.4858 - val_loss: 4.8576\n",
      "Epoch 13/20\n",
      "\u001b[1m63/63\u001b[0m \u001b[32m━━━━━━━━━━━━━━━━━━━━\u001b[0m\u001b[37m\u001b[0m \u001b[1m69s\u001b[0m 1s/step - accuracy: 0.8912 - loss: 0.3307 - val_accuracy: 0.4793 - val_loss: 4.8878\n",
      "Epoch 14/20\n",
      "\u001b[1m63/63\u001b[0m \u001b[32m━━━━━━━━━━━━━━━━━━━━\u001b[0m\u001b[37m\u001b[0m \u001b[1m71s\u001b[0m 1s/step - accuracy: 0.9045 - loss: 0.2850 - val_accuracy: 0.4972 - val_loss: 3.4311\n",
      "Epoch 15/20\n",
      "\u001b[1m63/63\u001b[0m \u001b[32m━━━━━━━━━━━━━━━━━━━━\u001b[0m\u001b[37m\u001b[0m \u001b[1m77s\u001b[0m 1s/step - accuracy: 0.9002 - loss: 0.3074 - val_accuracy: 0.4822 - val_loss: 5.3216\n",
      "Epoch 16/20\n",
      "\u001b[1m63/63\u001b[0m \u001b[32m━━━━━━━━━━━━━━━━━━━━\u001b[0m\u001b[37m\u001b[0m \u001b[1m73s\u001b[0m 1s/step - accuracy: 0.9123 - loss: 0.2968 - val_accuracy: 0.4772 - val_loss: 5.6815\n",
      "Epoch 17/20\n",
      "\u001b[1m63/63\u001b[0m \u001b[32m━━━━━━━━━━━━━━━━━━━━\u001b[0m\u001b[37m\u001b[0m \u001b[1m87s\u001b[0m 1s/step - accuracy: 0.9031 - loss: 0.2809 - val_accuracy: 0.4986 - val_loss: 4.6051\n",
      "Epoch 18/20\n",
      "\u001b[1m63/63\u001b[0m \u001b[32m━━━━━━━━━━━━━━━━━━━━\u001b[0m\u001b[37m\u001b[0m \u001b[1m71s\u001b[0m 1s/step - accuracy: 0.9057 - loss: 0.2964 - val_accuracy: 0.4865 - val_loss: 4.8298\n",
      "Epoch 19/20\n",
      "\u001b[1m63/63\u001b[0m \u001b[32m━━━━━━━━━━━━━━━━━━━━\u001b[0m\u001b[37m\u001b[0m \u001b[1m74s\u001b[0m 1s/step - accuracy: 0.9086 - loss: 0.2726 - val_accuracy: 0.4957 - val_loss: 4.0631\n",
      "Epoch 20/20\n",
      "\u001b[1m63/63\u001b[0m \u001b[32m━━━━━━━━━━━━━━━━━━━━\u001b[0m\u001b[37m\u001b[0m \u001b[1m70s\u001b[0m 1s/step - accuracy: 0.9144 - loss: 0.2616 - val_accuracy: 0.4972 - val_loss: 4.7440\n"
     ]
    }
   ],
   "source": [
    "# Training the model and validating on validation data\n",
    "history = model.fit(\n",
    "    train_data,\n",
    "    epochs=epochs,\n",
    "    validation_data=val_data\n",
    ")\n"
   ]
  },
  {
   "cell_type": "code",
   "execution_count": null,
   "id": "b98392d3-02fc-47a3-bf2d-b239d24516b9",
   "metadata": {},
   "outputs": [],
   "source": [
    "num_classes = train_data.num_classes  # Check the number of classes in train_data\n",
    "print(\"Number of classes in training data:\", num_classes)\n"
   ]
  },
  {
   "cell_type": "code",
   "execution_count": null,
   "id": "a9a4189e-05b6-4190-9796-10238394a57c",
   "metadata": {},
   "outputs": [],
   "source": [
    "from tensorflow.keras import layers, models\n",
    "\n"
   ]
  },
  {
   "cell_type": "code",
   "execution_count": null,
   "id": "9c877f19-ba4c-48fb-88ed-2c4dab441f0a",
   "metadata": {},
   "outputs": [],
   "source": [
    "model = models.Sequential([\n",
    "    # Your model's layers here\n",
    "    layers.Dense(num_classes, activation='softmax')  # Ensure `num_classes` matches the dataset\n",
    "])\n"
   ]
  },
  {
   "cell_type": "code",
   "execution_count": null,
   "id": "55daee71-5246-411f-b4ed-8821150d6f03",
   "metadata": {},
   "outputs": [],
   "source": [
    "model.compile(optimizer='adam', loss='categorical_crossentropy', metrics=['accuracy'])\n",
    "\n",
    "\n"
   ]
  },
  {
   "cell_type": "code",
   "execution_count": null,
   "id": "3930a813-73a1-4044-91e6-7e2589bd0e23",
   "metadata": {},
   "outputs": [],
   "source": [
    "\n",
    "\n",
    "model = models.Sequential([\n",
    "    layers.Conv2D(32, (3, 3), activation='relu', input_shape=(img_height, img_width, 3)),\n",
    "    layers.MaxPooling2D((2, 2)),\n",
    "    layers.Conv2D(64, (3, 3), activation='relu'),\n",
    "    layers.MaxPooling2D((2, 2)),\n",
    "    layers.Flatten(),  # Ensure this layer is here to reduce spatial dimensions\n",
    "    layers.Dense(64, activation='relu'),\n",
    "    layers.Dense(num_classes, activation='softmax')  # `num_classes` should match your dataset\n",
    "])\n",
    "\n"
   ]
  },
  {
   "cell_type": "code",
   "execution_count": null,
   "id": "1a9f4d18-c3dd-4408-af5d-32e55f38e8da",
   "metadata": {},
   "outputs": [],
   "source": [
    "model.compile(optimizer='adam', loss='categorical_crossentropy', metrics=['accuracy'])\n",
    "\n",
    "history = model.fit(\n",
    "    train_data,\n",
    "    epochs=epochs,\n",
    "    validation_data=val_data\n",
    ")\n"
   ]
  },
  {
   "cell_type": "code",
   "execution_count": null,
   "id": "4ddc4fd9-6ed5-49b0-ab07-ee0ece03931c",
   "metadata": {},
   "outputs": [],
   "source": [
    "# Plotting training & validation accuracy and loss\n",
    "plt.figure(figsize=(12, 4))\n",
    "\n",
    "# Accuracy plot\n",
    "plt.subplot(1, 2, 1)\n",
    "plt.plot(history.history['accuracy'], label='Train Accuracy')\n",
    "plt.plot(history.history['val_accuracy'], label='Validation Accuracy')\n",
    "plt.title('Training and Validation Accuracy')\n",
    "plt.xlabel('Epochs')\n",
    "plt.ylabel('Accuracy')\n",
    "plt.legend()\n",
    "\n",
    "# Loss plot\n",
    "plt.subplot(1, 2, 2)\n",
    "plt.plot(history.history['loss'], label='Train Loss')\n",
    "plt.plot(history.history['val_loss'], label='Validation Loss')\n",
    "plt.title('Training and Validation Loss')\n",
    "plt.xlabel('Epochs')\n",
    "plt.ylabel('Loss')\n",
    "plt.legend()\n",
    "\n",
    "plt.show()\n"
   ]
  },
  {
   "cell_type": "code",
   "execution_count": null,
   "id": "32696031-70eb-4b79-aef0-a1cd1e6f0d08",
   "metadata": {},
   "outputs": [],
   "source": [
    "# Save the trained model for future use\n",
    "model.save('distracted_driver_detection_model.keras')\n"
   ]
  },
  {
   "cell_type": "code",
   "execution_count": null,
   "id": "b9fde7f2-b127-4a2e-a6ca-bfcb6537fd9e",
   "metadata": {},
   "outputs": [],
   "source": [
    "import tensorflow as tf\n",
    "import numpy as np\n",
    "import cv2\n",
    "from playsound import playsound\n",
    "\n",
    "# Load the trained model\n",
    "model = tf.keras.models.load_model('distracted_driver_detection_model.keras')\n",
    "\n",
    "# Define the class labels (e.g., \"Normal\", \"Texting\", \"Eating\", etc.)\n",
    "class_labels = ['Distracted', 'Drinking', 'SafeDrinking', 'SleepyDriving']\n"
   ]
  },
  {
   "cell_type": "code",
   "execution_count": null,
   "id": "3b2ab523-4b65-44de-8f77-ba31f12c71f1",
   "metadata": {},
   "outputs": [],
   "source": [
    "pip install pygame\n"
   ]
  },
  {
   "cell_type": "code",
   "execution_count": null,
   "id": "5427e0de-6b59-48cd-b5c2-5ae6702bfdeb",
   "metadata": {},
   "outputs": [],
   "source": [
    "import pygame\n",
    "import time\n",
    "\n",
    "# Initialize the pygame mixer\n",
    "pygame.mixer.init()\n",
    "\n",
    "# Load and play the sound\n",
    "alert_sound_path = 'alert.mp3'\n",
    "pygame.mixer.music.load(alert_sound_path)\n",
    "pygame.mixer.music.play()\n",
    "\n",
    "# Keep the program running until the music finishes playing\n",
    "while pygame.mixer.music.get_busy():\n",
    "    time.sleep(0.1)  # Add a small delay to reduce CPU usage\n"
   ]
  },
  {
   "cell_type": "code",
   "execution_count": null,
   "id": "5ba2d679-f94c-4674-8103-2bb159ae60fa",
   "metadata": {},
   "outputs": [],
   "source": [
    "import cv2\n",
    "import numpy as np\n",
    "import tensorflow as tf\n",
    "from playsound import playsound  # or use pygame if preferred"
   ]
  },
  {
   "cell_type": "code",
   "execution_count": null,
   "id": "91c3e42b-294d-4e52-a7df-d872d94b9a0e",
   "metadata": {},
   "outputs": [],
   "source": [
    "cap = cv2.VideoCapture(0)"
   ]
  },
  {
   "cell_type": "code",
   "execution_count": null,
   "id": "763f297c-2768-4621-89b6-8912de946b67",
   "metadata": {},
   "outputs": [],
   "source": [
    "if not cap.isOpened():\n",
    "    print(\"Error: Could not open video capture.\")\n",
    "    exit()"
   ]
  },
  {
   "cell_type": "code",
   "execution_count": null,
   "id": "a0a5c303-7ff3-430e-9ebb-a70630d162d2",
   "metadata": {},
   "outputs": [],
   "source": [
    "alert_sound_path = 'alert.mp3'"
   ]
  },
  {
   "cell_type": "code",
   "execution_count": null,
   "id": "016c7b6f-4eee-4b71-94fa-58892592f3d2",
   "metadata": {},
   "outputs": [],
   "source": [
    "class_labels = [ 'Distracted','Drinking','SafeDriving','SleepyDriving']"
   ]
  },
  {
   "cell_type": "code",
   "execution_count": null,
   "id": "4430c07c-8d51-4347-bd10-f0ef5d74bfb9",
   "metadata": {},
   "outputs": [],
   "source": [
    "def preprocess_frame(frame):\n",
    "    img = cv2.resize(frame, (224, 224))  # Resize to the input shape your model expects\n",
    "    img = img / 255.0  # Normalize to [0, 1]\n",
    "    img = np.expand_dims(img, axis=0)  # Add batch dimension\n",
    "    return img"
   ]
  },
  {
   "cell_type": "code",
   "execution_count": null,
   "id": "dc5565b3-5c70-4073-a4b6-a4c1b53830a8",
   "metadata": {},
   "outputs": [],
   "source": [
    "from keras.models import load_model\n",
    "\n",
    "# Load the trained model\n",
    "model = load_model('distracted_driver_detection_model.keras')  # Adjust the file name if needed\n"
   ]
  },
  {
   "cell_type": "code",
   "execution_count": null,
   "id": "e1541eab-e9fb-4257-8eca-4437efe83fe4",
   "metadata": {},
   "outputs": [],
   "source": [
    "while True:\n",
    "    # Capture frame-by-frame\n",
    "    ret, frame = cap.read()\n",
    "    \n",
    "    if not ret:\n",
    "        print(\"Failed to grab frame.\")\n",
    "        break\n",
    "    \n",
    "    # Preprocess the frame for prediction\n",
    "    preprocessed_frame = preprocess_frame(frame)\n",
    "    \n",
    "    # Make a prediction using the model\n",
    "    predictions = model.predict(preprocessed_frame)\n",
    "    predicted_class = np.argmax(predictions, axis=1)[0]\n",
    "    label = class_labels[predicted_class]\n",
    "    \n",
    "    # Display the prediction on the frame\n",
    "    cv2.putText(frame, f'Distracted State: {label}', (10, 30),\n",
    "                cv2.FONT_HERSHEY_SIMPLEX, 1, (0, 0, 255), 2, cv2.LINE_AA)\n",
    "    \n",
    "    # Play the alert sound only if the detected label is \"Drinking\" or \"Distracted\"\n",
    "    if label in ['Drinking', 'Distracted']:\n",
    "        playsound(alert_sound_path)\n",
    "    \n",
    "    # Display the resulting frame\n",
    "    cv2.imshow('Distracted Driver Detection', frame)\n",
    "    \n",
    "    # Break the loop if 'q' is pressed\n",
    "    if cv2.waitKey(1) & 0xFF == ord('q'):\n",
    "        break\n",
    "\n",
    "# Release the capture and close windows\n",
    "cap.release()\n",
    "cv2.destroyAllWindows()\n"
   ]
  },
  {
   "cell_type": "code",
   "execution_count": null,
   "id": "01224997-8e63-41e2-b849-ec0c8fba63d7",
   "metadata": {},
   "outputs": [],
   "source": []
  },
  {
   "cell_type": "code",
   "execution_count": null,
   "id": "c0e3ac64-1f6f-4b99-aea2-cd7585144e87",
   "metadata": {},
   "outputs": [],
   "source": []
  }
 ],
 "metadata": {
  "kernelspec": {
   "display_name": "Python 3 (ipykernel)",
   "language": "python",
   "name": "python3"
  },
  "language_info": {
   "codemirror_mode": {
    "name": "ipython",
    "version": 3
   },
   "file_extension": ".py",
   "mimetype": "text/x-python",
   "name": "python",
   "nbconvert_exporter": "python",
   "pygments_lexer": "ipython3",
   "version": "3.12.7"
  }
 },
 "nbformat": 4,
 "nbformat_minor": 5
}
